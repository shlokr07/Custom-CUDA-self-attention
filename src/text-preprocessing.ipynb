{
 "cells": [
  {
   "cell_type": "code",
   "execution_count": 1,
   "id": "b3cab6ad",
   "metadata": {},
   "outputs": [],
   "source": [
    "import numpy as np\n",
    "import gensim.downloader as api\n",
    "import inflect\n",
    "import re"
   ]
  },
  {
   "cell_type": "code",
   "execution_count": null,
   "id": "ec41d7be",
   "metadata": {},
   "outputs": [],
   "source": [
    "# === CONFIG ===\n",
    "MAX_LEN = 32\n",
    "EMBED_DIM = 300\n",
    "MAX_SENTENCES = 2000\n",
    "INPUT_FILE = \"data/Sentences_AllAgree.txt\"\n",
    "OUTPUT_BIN = f\"data/embeddings{MAX_SENTENCES/1000}k.bin\"\n",
    "\n",
    "# === INIT ===\n",
    "inf = inflect.engine()\n",
    "NUM_VEC = np.random.normal(scale=0.1, size=(EMBED_DIM,)).astype(np.float32)"
   ]
  },
  {
   "cell_type": "code",
   "execution_count": 5,
   "id": "21c5221d",
   "metadata": {},
   "outputs": [
    {
     "name": "stdout",
     "output_type": "stream",
     "text": [
      "Loading Word2Vec model (Google News 300)...\n",
      " Reading up to 2000 sentences from: D:\\ML_DL\\Custom-CUDA-self-attention\\Sentences_AllAgree.txt\n",
      " Loaded 2000 sentences.\n",
      " Generating embeddings...\n",
      " Final shape: (2000, 32, 300) (sentences × tokens × dim)\n",
      " Saving to: embeddings.bin\n"
     ]
    }
   ],
   "source": [
    "print(\"Loading Word2Vec model (Google News 300)...\")\n",
    "model = api.load(\"word2vec-google-news-300\") \n",
    "\n",
    "# === Load Sentences ===\n",
    "print(f\" Reading up to {MAX_SENTENCES} sentences from: {INPUT_FILE}\")\n",
    "sentences = []\n",
    "with open(INPUT_FILE, encoding='latin1') as f:\n",
    "    for line in f:\n",
    "        if '@' in line:\n",
    "            text, _ = line.strip().rsplit('@', 1)\n",
    "            sentences.append(text.strip())\n",
    "        if len(sentences) >= MAX_SENTENCES:\n",
    "            break\n",
    "\n",
    "print(f\" Loaded {len(sentences)} sentences.\")\n",
    "\n",
    "# === Tokenization with Number-to-Word Expansion ===\n",
    "def number_to_words(tok):\n",
    "    if '.' in tok:\n",
    "        parts = tok.split('.')\n",
    "        return [inf.number_to_words(parts[0])] + ['point'] + [inf.number_to_words(d) for d in parts[1]]\n",
    "    else:\n",
    "        return [inf.number_to_words(tok)]\n",
    "\n",
    "def tokenize_numberized(sentence):\n",
    "    tokens = re.findall(r'\\b\\d+\\.\\d+|\\d+|\\w+\\b', sentence.lower())\n",
    "    result = []\n",
    "    for tok in tokens:\n",
    "        if re.fullmatch(r'\\d+\\.\\d+|\\d+', tok):\n",
    "            result.extend(number_to_words(tok))\n",
    "        else:\n",
    "            result.append(tok)\n",
    "    return result\n",
    "\n",
    "# === Sentence to Matrix ===\n",
    "def sentence_to_matrix(sentence):\n",
    "    tokens = tokenize_numberized(sentence)[:MAX_LEN]\n",
    "    vectors = []\n",
    "    for token in tokens:\n",
    "        if token in model:\n",
    "            vectors.append(model[token])\n",
    "        elif token.isdigit() or token in ['point', 'percent', 'million', 'billion']:\n",
    "            vectors.append(NUM_VEC)\n",
    "        else:\n",
    "            vectors.append(np.zeros(EMBED_DIM, dtype=np.float32))\n",
    "    while len(vectors) < MAX_LEN:\n",
    "        vectors.append(np.zeros(EMBED_DIM, dtype=np.float32))\n",
    "    return np.stack(vectors)\n",
    "\n",
    "# === Embed All Sentences ===\n",
    "print(\" Generating embeddings...\")\n",
    "all_embeddings = np.stack([sentence_to_matrix(s) for s in sentences])\n",
    "print(f\" Final shape: {all_embeddings.shape} (sentences × tokens × dim)\")\n",
    "\n",
    "# === Save to .bin ===\n",
    "print(f\" Saving to: {OUTPUT_BIN}\")\n",
    "all_embeddings.astype(np.float32).tofile(OUTPUT_BIN)"
   ]
  }
 ],
 "metadata": {
  "kernelspec": {
   "display_name": ".venv",
   "language": "python",
   "name": "python3"
  },
  "language_info": {
   "codemirror_mode": {
    "name": "ipython",
    "version": 3
   },
   "file_extension": ".py",
   "mimetype": "text/x-python",
   "name": "python",
   "nbconvert_exporter": "python",
   "pygments_lexer": "ipython3",
   "version": "3.11.9"
  }
 },
 "nbformat": 4,
 "nbformat_minor": 5
}
